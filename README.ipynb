{
 "cells": [
  {
   "cell_type": "markdown",
   "metadata": {},
   "source": [
    "# Como configurar/instalar/usar o `setoolkit` no `Linux Ubuntu`\n",
    "\n",
    "## Resumo\n",
    "\n",
    "Neste documento estão contidos os principais comandos e configurações para configurar/instalar/usar o `setoolkit` no `Linux Ubuntu`.\n",
    "\n",
    "## _Abstract_\n",
    "\n",
    "_This document contains the main commands and settings for configuring/installing/using `setoolkit` on `Linux Ubuntu`._"
   ]
  },
  {
   "cell_type": "markdown",
   "metadata": {},
   "source": [
    "## Descrição [2]\n",
    "\n",
    "### Social-Engigeer Toolkit (SET, `setoolkit`)\n",
    "\n",
    "O `\"setoolkit\"` (Social Engineering Toolkit) é uma poderosa ferramenta de código aberto utilizada principalmente para testar e simular ataques de engenharia social em sistemas de segurança. Desenvolvido em Python, o `setoolkit` oferece uma variedade de recursos e módulos para criar cenários de engenharia social, como setoolkit, obtenção de credenciais, criação de páginas web falsas e muito mais. Embora seja uma ferramenta legítima, o `setoolkit` também pode ser usada de forma maliciosa por indivíduos com más intenções, destacando a importância de seu uso responsável e ético, geralmente por profissionais de segurança de TI e equipes de teste de penetração, para avaliar a vulnerabilidade de sistemas e redes a ataques de engenharia social."
   ]
  },
  {
   "cell_type": "markdown",
   "metadata": {},
   "source": [
    "## 1. Como configurar/instalar/usar o `setoolkit` no `Linux Ubuntu` [1][3]\n",
    "\n",
    "Para configurar/instalar/usar o `setoolkit` no `Linux Ubuntu`, você pode seguir estes passos:\n",
    "\n",
    "1. Abra o `Terminal Emulator`. Você pode fazer isso pressionando: `Ctrl + Alt + T`"
   ]
  },
  {
   "cell_type": "markdown",
   "metadata": {},
   "source": [
    "2. Certifique-se de que seu sistema esteja limpo e atualizado.\n",
    "\n",
    "    2.1 Limpar o `cache` do gerenciador de pacotes `apt`. Especificamente, ele remove todos os arquivos de pacotes (`.deb`) baixados pelo `apt` e armazenados em `/var/cache/apt/archives/`. Digite o seguinte comando: `sudo apt clean` \n",
    "    \n",
    "    2.2 Remover pacotes `.deb` antigos ou duplicados do cache local. É útil para liberar espaço, pois remove apenas os pacotes que não podem mais ser baixados (ou seja, versões antigas de pacotes que foram atualizados). Digite o seguinte comando: `sudo apt autoclean`\n",
    "\n",
    "    2.3 Remover pacotes que foram automaticamente instalados para satisfazer as dependências de outros pacotes e que não são mais necessários. Digite o seguinte comando: `sudo apt autoremove -y`\n",
    "\n",
    "    2.4 Buscar as atualizações disponíveis para os pacotes que estão instalados em seu sistema. Digite o seguinte comando e pressione `Enter`: `sudo apt update`\n",
    "\n",
    "    2.5 **Corrigir pacotes quebrados**: Isso atualizará a lista de pacotes disponíveis e tentará corrigir pacotes quebrados ou com dependências ausentes: `sudo apt --fix-broken install`\n",
    "\n",
    "    2.6 Limpar o `cache` do gerenciador de pacotes `apt`. Especificamente, ele remove todos os arquivos de pacotes (`.deb`) baixados pelo `apt` e armazenados em `/var/cache/apt/archives/`. Digite o seguinte comando: `sudo apt clean` \n",
    "    \n",
    "    2.7 Para ver a lista de pacotes a serem atualizados, digite o seguinte comando e pressione `Enter`:  `sudo apt list --upgradable`\n",
    "\n",
    "    2.8 Realmente atualizar os pacotes instalados para as suas versões mais recentes, com base na última vez que você executou `sudo apt update`. Digite o seguinte comando e pressione `Enter`: `sudo apt full-upgrade -y`\n",
    "    "
   ]
  },
  {
   "cell_type": "markdown",
   "metadata": {
    "vscode": {
     "languageId": "plaintext"
    }
   },
   "source": [
    "3. Instalar Dependências: O `setoolkit` requer algumas dependências. Instale-as com o seguinte comando: `sudo apt install -y git apache2 python3-pip`\n",
    "\n",
    "4. **Permissões de Superusuário:** A maioria das operações de instalação requer privilégios de superusuário (`root`). Você pode usar o comando sudo antes dos comandos para adquirir essas permissões. Por exemplo:\n",
    "\n",
    "    ```\n",
    "    sudo git clone https://github.com/trustedsec/social-engineer-toolkit.git\n",
    "    sudo pip3 install -r requirements.txt\n",
    "    sudo python3 setup.py\n",
    "    ```\n",
    "\n",
    "    Certifique-se de fornecer sua senha de superusuário quando solicitado.\n",
    "\n",
    "5. **Instalar Pacotes `Python` Locais:** Se você encontrar problemas com a instalação de pacotes `Python` (como `pycrypto`) devido à falta de permissões, você pode usar a opção --`user` para instalar pacotes localmente apenas para o seu usuário, sem a necessidade de permissões de superusuário. Por exemplo: `pip3 install --user -r requirements.txt`\n",
    "`\n",
    "    Isso instalará os pacotes Python na sua pasta pessoal e não exigirá permissões de superusuário.\n",
    "\n",
    "6. **Executar o SET:** Para iniciar o SET, use: `sudo setoolkit`\n",
    "`\n",
    "Lembre-se de que o SET é uma ferramenta poderosa usada para testes de engenharia social e pentesting. Use-a com responsabilidade e apenas em ambientes autorizados.\n",
    "\n",
    "Lembre-se de que, em alguns casos, pode ser necessário reiniciar o terminal ou a sessão para que as alterações nas permissões tenham efeito. Certifique-se de que todos os comandos tenham sido executados com sucesso e, em seguida, você deve ser capaz de usar o `setoolkit`.\n",
    "\n"
   ]
  },
  {
   "cell_type": "markdown",
   "metadata": {
    "vscode": {
     "languageId": "plaintext"
    }
   },
   "source": [
    "### 2. Código completo para configurar/instalar/usar\n",
    "\n",
    "Para configurar/instalar/usar o `setoolkit` no `Linux Ubuntu` sem precisar digitar linha por linha, você pode seguir estas etapas:\n",
    "\n",
    "1. Abra o `Terminal Emulator`. Você pode fazer isso pressionando: `Ctrl + Alt + T`\n",
    "\n",
    "2. Digite o seguinte comando e pressione `Enter`:\n",
    "\n",
    "    ```\n",
    "    sudo apt clean\n",
    "    sudo apt autoclean\n",
    "    sudo apt autoremove -y\n",
    "    sudo apt update\n",
    "    sudo apt --fix-broken install\n",
    "    sudo apt clean\n",
    "    sudo apt list --upgradable\n",
    "    sudo apt full-upgrade -y\n",
    "    sudo git clone https://github.com/trustedsec/social-engineer-toolkit.git\n",
    "    sudo pip3 install -r requirements.txt\n",
    "    sudo python3 setup.py\n",
    "    pip3 install --user -r requirements.txt\n",
    "    sudo setoolkit\n",
    "    ```\n"
   ]
  },
  {
   "cell_type": "markdown",
   "metadata": {
    "vscode": {
     "languageId": "plaintext"
    }
   },
   "source": [
    "## Referências\n",
    "\n",
    "[1] OPENAI. ***Instalar set no xubuntu.*** Disponível em: <https://chat.openai.com/c/d899631e-ab79-4474-8e35-33a017ad1ae6> (texto adaptado). Acessado em: 01/02/2024 11:40.\n",
    "\n",
    "[2] OPENAI. ***Vs code: editor popular.*** Disponível em: <https://chat.openai.com/c/b640a25d-f8e3-4922-8a3b-ed74a2657e42> (texto adaptado). Acessado em: 01/02/2024 11:40.\n",
    "\n"
   ]
  }
 ],
 "metadata": {
  "kernelspec": {
   "display_name": "Python 3",
   "language": "python",
   "name": "python3"
  },
  "language_info": {
   "codemirror_mode": {
    "name": "ipython",
    "version": 3
   },
   "file_extension": ".py",
   "mimetype": "text/x-python",
   "name": "python",
   "nbconvert_exporter": "python",
   "pygments_lexer": "ipython3",
   "version": "3.11.7"
  },
  "orig_nbformat": 4
 },
 "nbformat": 4,
 "nbformat_minor": 2
}
